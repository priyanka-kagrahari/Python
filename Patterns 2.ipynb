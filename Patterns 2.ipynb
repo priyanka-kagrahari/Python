{
 "cells": [
  {
   "cell_type": "code",
   "execution_count": null,
   "id": "ab55a326",
   "metadata": {},
   "outputs": [],
   "source": [
    "# Print below pattern:\n",
    "\n",
    "# N=4\n",
    "\n",
    "****\n",
    "***\n",
    "**\n",
    "*"
   ]
  },
  {
   "cell_type": "code",
   "execution_count": 2,
   "id": "fbed5313",
   "metadata": {},
   "outputs": [
    {
     "name": "stdout",
     "output_type": "stream",
     "text": [
      "5\n",
      "*****\n",
      "****\n",
      "***\n",
      "**\n",
      "*\n"
     ]
    }
   ],
   "source": [
    "n = int(input())\n",
    "i=1\n",
    "\n",
    "while i<=n:\n",
    "    j=1\n",
    "    while j<=n-i+1:\n",
    "        print('*',end='')\n",
    "        j = j+1\n",
    "    print()\n",
    "    i = i+1"
   ]
  },
  {
   "cell_type": "code",
   "execution_count": null,
   "id": "ecdf5dd9",
   "metadata": {},
   "outputs": [],
   "source": [
    "# Problem statement\n",
    "# Print the following pattern for the given N number of rows.\n",
    "\n",
    "# Pattern for N = 4\n",
    "4444\n",
    "333\n",
    "22\n",
    "1"
   ]
  },
  {
   "cell_type": "code",
   "execution_count": 3,
   "id": "1b94dd69",
   "metadata": {},
   "outputs": [
    {
     "name": "stdout",
     "output_type": "stream",
     "text": [
      "4\n",
      "4444\n",
      "333\n",
      "22\n",
      "1\n"
     ]
    }
   ],
   "source": [
    "n = int(input())\n",
    "i=1\n",
    "\n",
    "while i<=n:\n",
    "    j=1\n",
    "    while j<=n-i+1:\n",
    "        print(n-i+1,end='')\n",
    "        j=j+1\n",
    "    print()\n",
    "    i=i+1"
   ]
  },
  {
   "cell_type": "code",
   "execution_count": null,
   "id": "486b96bc",
   "metadata": {},
   "outputs": [],
   "source": [
    "# Print the following pattern for the given N number of rows.\n",
    "\n",
    "# Pattern for N = 4\n",
    "   *\n",
    "  **\n",
    " ***\n",
    "****"
   ]
  },
  {
   "cell_type": "code",
   "execution_count": 5,
   "id": "eda76eca",
   "metadata": {},
   "outputs": [
    {
     "name": "stdout",
     "output_type": "stream",
     "text": [
      "4\n",
      "   *\n",
      "  **\n",
      " ***\n",
      "****\n"
     ]
    }
   ],
   "source": [
    "n = int(input())\n",
    "i=1\n",
    "\n",
    "while i<=n:\n",
    "    j=1\n",
    "    while j<=n:\n",
    "        if j<=n-i:\n",
    "            print(' ',end='')\n",
    "        else:\n",
    "            print('*',end='')\n",
    "        j = j+1\n",
    "    print()\n",
    "    i=i+1"
   ]
  },
  {
   "cell_type": "code",
   "execution_count": null,
   "id": "df24e3a2",
   "metadata": {},
   "outputs": [],
   "source": [
    "#Problem statement\n",
    "#Print the following pattern for the given N number of rows.\n",
    "\n",
    "#Pattern for N = 3\n",
    "\n",
    "  1 \n",
    " 12\n",
    "123\n"
   ]
  },
  {
   "cell_type": "code",
   "execution_count": 6,
   "id": "575712ee",
   "metadata": {},
   "outputs": [
    {
     "name": "stdout",
     "output_type": "stream",
     "text": [
      "3\n",
      "  1\n",
      " 12\n",
      "123\n"
     ]
    }
   ],
   "source": [
    "n = int(input())\n",
    "i=1\n",
    "\n",
    "while i<=n:\n",
    "    j=1\n",
    "    while j<=n-i:\n",
    "        print(' ',end='')\n",
    "        j = j+1\n",
    "    stars = 1\n",
    "    while stars<=i:\n",
    "        print(stars,end='')\n",
    "        stars = stars + 1\n",
    "    print()\n",
    "    i = i+1"
   ]
  },
  {
   "cell_type": "code",
   "execution_count": null,
   "id": "f77570d0",
   "metadata": {},
   "outputs": [],
   "source": [
    "# Isosceles Pattern\n",
    "\n",
    "   1 \n",
    "  121\n",
    " 12321\n",
    "1234321\n",
    "\n",
    "# In order to solve isosceles pattern, we need to break down the problem into\n",
    "# 3 parts:\n",
    "\n",
    "# 1. spaces\n",
    "# 2. The portion with increasing number.\n",
    "# 3. The portion with decreasing number.\n",
    "    "
   ]
  },
  {
   "cell_type": "code",
   "execution_count": 11,
   "id": "a118523c",
   "metadata": {},
   "outputs": [
    {
     "name": "stdout",
     "output_type": "stream",
     "text": [
      "4\n",
      "   1\n",
      "  121\n",
      " 12321\n",
      "1234321\n"
     ]
    }
   ],
   "source": [
    "n = int(input())\n",
    "i=1\n",
    "\n",
    "while i<=n:\n",
    "    j=1\n",
    "    while j<=n-i:\n",
    "        print(' ',end='')\n",
    "        j=j+1\n",
    "    char = 1\n",
    "    while char<=i:\n",
    "        print(char,end='')\n",
    "        char = char+1\n",
    "    dec = 0\n",
    "    pr = i-1\n",
    "    while dec<i-1:\n",
    "        print(pr,end='')\n",
    "        dec=dec+1\n",
    "        pr = pr-1\n",
    "    print()\n",
    "    i=i+1"
   ]
  },
  {
   "cell_type": "code",
   "execution_count": null,
   "id": "d2c21d47",
   "metadata": {},
   "outputs": [],
   "source": [
    "# Problem statement\n",
    "# Print the following pattern\n",
    "\n",
    "# Sample Input 1 :\n",
    "# 3\n",
    "# Sample Output 1 :\n",
    "   *\n",
    "  *** \n",
    " *****\n",
    "\n"
   ]
  },
  {
   "cell_type": "code",
   "execution_count": 13,
   "id": "e33c3858",
   "metadata": {},
   "outputs": [
    {
     "name": "stdout",
     "output_type": "stream",
     "text": [
      "4\n",
      "   *\n",
      "  ***\n",
      " *****\n",
      "*******\n"
     ]
    }
   ],
   "source": [
    "n = int(input())\n",
    "i = 1\n",
    "\n",
    "while i<=n:\n",
    "    j = 1\n",
    "    #spaces\n",
    "    while j<=n-i:\n",
    "        print(' ',end='')\n",
    "        j = j+1\n",
    "    #increasing stars\n",
    "    incStar = 1\n",
    "    while incStar<=i:\n",
    "        print('*',end='')\n",
    "        incStar = incStar + 1\n",
    "    #decreasing stars\n",
    "    decStar=i-1\n",
    "    while decStar>=1:\n",
    "        print('*',end='')\n",
    "        decStar = decStar-1\n",
    "    print()\n",
    "    i=i+1"
   ]
  },
  {
   "cell_type": "code",
   "execution_count": null,
   "id": "510b5a4e",
   "metadata": {},
   "outputs": [],
   "source": [
    "# Problem statement\n",
    "# Print the following pattern for the given number of rows.\n",
    "\n",
    "# Pattern for N = 5\n",
    "\n",
    "           1\n",
    "          232\n",
    "         34543\n",
    "        4567654\n",
    "       567898765"
   ]
  },
  {
   "cell_type": "code",
   "execution_count": 2,
   "id": "97bc7771",
   "metadata": {},
   "outputs": [
    {
     "name": "stdout",
     "output_type": "stream",
     "text": [
      "5\n",
      "    1\n",
      "   232\n",
      "  34543\n",
      " 4567654\n",
      "567898765\n"
     ]
    }
   ],
   "source": [
    "n = int(input())\n",
    "i=1\n",
    "\n",
    "while i<=n:\n",
    "    #spaces\n",
    "    j=1\n",
    "    while j<=n-i:\n",
    "        print(' ',end='')\n",
    "        j=j+1\n",
    "    #increasing number\n",
    "    k=1\n",
    "    p=i\n",
    "    while k<=i:\n",
    "        print(p,end='')\n",
    "        k=k+1\n",
    "        p=p+1\n",
    "    #decreasing number\n",
    "    l=0\n",
    "    p=p-2\n",
    "    while l<i-1:\n",
    "        print(p,end='')\n",
    "        l=l+1\n",
    "        p=p-1\n",
    "    print()\n",
    "    i=i+1\n",
    "    "
   ]
  },
  {
   "cell_type": "code",
   "execution_count": null,
   "id": "4357442b",
   "metadata": {},
   "outputs": [],
   "source": [
    "# Problem statement\n",
    "# Print the following pattern for the given number of rows.\n",
    "\n",
    "# Note: N is always odd.\n",
    "\n",
    "# Sample Input 1:\n",
    "# 5\n",
    "# Sample Output 1:\n",
    "  *\n",
    " ***\n",
    "*****\n",
    " ***\n",
    "  *"
   ]
  },
  {
   "cell_type": "code",
   "execution_count": 59,
   "id": "1629a07e",
   "metadata": {},
   "outputs": [
    {
     "name": "stdout",
     "output_type": "stream",
     "text": [
      "7\n",
      "   *\n",
      "  ***\n",
      " *****\n",
      "*******\n",
      " *****\n",
      "  ***\n",
      "   *\n"
     ]
    }
   ],
   "source": [
    "n = int(input())\n",
    "i=1\n",
    "j=1\n",
    "l = n//2\n",
    "mid = 0\n",
    "star = n-2\n",
    "while i<=n//2+1:\n",
    "    pt = 0\n",
    "    while pt<l:\n",
    "        print(' ',end='')\n",
    "        pt = pt+1\n",
    "    l = l-1\n",
    "    k=1\n",
    "    while k<=j and j<=n:\n",
    "        print('*',end='')\n",
    "        k=k+1\n",
    "    j=j+2\n",
    "    print()\n",
    "    i=i+1\n",
    "\n",
    "#second half pattern\n",
    "i=1\n",
    "while i<=n//2:\n",
    "    x=0\n",
    "    while x<=mid and mid<n//2:\n",
    "        print(' ',end='')\n",
    "        x=x+1\n",
    "    mid = mid+1\n",
    "    p=1\n",
    "    while p<=star and star>0:\n",
    "        print('*',end='')\n",
    "        p=p+1\n",
    "    star = star-2\n",
    "    print()\n",
    "    i=i+1"
   ]
  },
  {
   "cell_type": "code",
   "execution_count": 62,
   "id": "5bfab95d",
   "metadata": {},
   "outputs": [
    {
     "name": "stdout",
     "output_type": "stream",
     "text": [
      "4\n",
      "*000*000*\n",
      "0*00*00*0\n",
      "00*0*0*00\n",
      "000***000\n"
     ]
    }
   ],
   "source": [
    "n = int(input())\n",
    "i=1\n",
    "x=0\n",
    "while i<=n:\n",
    "    j=1\n",
    "    while j<=n:\n",
    "        if j==i:\n",
    "            print('*',end='')\n",
    "        else:\n",
    "            print(0,end='')\n",
    "        j=j+1\n",
    "    if j-1==n:\n",
    "        print('*',end='')\n",
    "    k=1\n",
    "    while k<=n:\n",
    "        if k==n-x:\n",
    "            print('*',end='')\n",
    "        else:\n",
    "            print(0,end='')\n",
    "        k=k+1\n",
    "    x = x+1\n",
    "    print()\n",
    "    i=i+1"
   ]
  },
  {
   "cell_type": "code",
   "execution_count": null,
   "id": "c5425c67",
   "metadata": {},
   "outputs": [],
   "source": [
    "#Problem statement\n",
    "#Print the following pattern for the given number of rows.\n",
    "\n",
    "#Pattern for N = 4\n",
    "   1\n",
    "  212\n",
    " 32123\n",
    "4321234"
   ]
  },
  {
   "cell_type": "code",
   "execution_count": null,
   "id": "06d051fd",
   "metadata": {},
   "outputs": [],
   "source": [
    "n = int(input())\n",
    "i=1\n",
    "k=n\n",
    "while i<=n:\n",
    "    space = n-i\n",
    "    while space>=n-i and space>0:\n",
    "        print(' ',end='')\n",
    "        space = space-1\n",
    "    j=i\n",
    "    while j>=1:\n",
    "        print(j,end='')\n",
    "        j=j-1\n",
    "    x=0\n",
    "    p=2\n",
    "    while x<i-1:\n",
    "        print(p,end='')\n",
    "        p=p+1\n",
    "        x=x+1\n",
    "    print()\n",
    "    i=i+1"
   ]
  },
  {
   "cell_type": "code",
   "execution_count": 71,
   "id": "6716d572",
   "metadata": {},
   "outputs": [
    {
     "name": "stdout",
     "output_type": "stream",
     "text": [
      "5\n",
      "\n",
      "2\n",
      "23\n",
      "234\n",
      "2345\n"
     ]
    }
   ],
   "source": [
    "n = int(input())\n",
    "i=1\n",
    "while i<=n:\n",
    "    j=i\n",
    "    while j<=1:\n",
    "        print(j,end='')\n",
    "        j=j-1\n",
    "    x=0\n",
    "    p=2\n",
    "    while x<i-1:\n",
    "        print(p,end='')\n",
    "        p=p+1\n",
    "        x=x+1\n",
    "    print()\n",
    "    i=i+1"
   ]
  },
  {
   "cell_type": "code",
   "execution_count": 76,
   "id": "ea4f3fc2",
   "metadata": {},
   "outputs": [
    {
     "name": "stdout",
     "output_type": "stream",
     "text": [
      "5\n",
      "    1\n",
      "   212\n",
      "  32123\n",
      " 4321234\n",
      "543212345\n"
     ]
    }
   ],
   "source": [
    "n = int(input())\n",
    "i=1\n",
    "while i<=n:\n",
    "    space = n-i\n",
    "    while space>=1:\n",
    "        print(' ',end='')\n",
    "        space = space-1\n",
    "    j=i\n",
    "    while j>=1:\n",
    "        print(j,end='')\n",
    "        j=j-1\n",
    "    x=0\n",
    "    p=2\n",
    "    while x<i-1:\n",
    "        print(p,end='')\n",
    "        p=p+1\n",
    "        x=x+1\n",
    "    print()\n",
    "    i=i+1"
   ]
  },
  {
   "cell_type": "code",
   "execution_count": null,
   "id": "2b0dc8a7",
   "metadata": {},
   "outputs": [],
   "source": [
    "# Problem statement\n",
    "# Print the following pattern for the given number of rows.\n",
    "\n",
    "# Assume N is always odd.\n",
    "\n",
    "# Note : There is space after every star. Pattern for N = 7\n",
    "*\n",
    " * *\n",
    "   * * *\n",
    "     * * * *\n",
    "   * * *\n",
    " * *\n",
    "*"
   ]
  },
  {
   "cell_type": "code",
   "execution_count": 16,
   "id": "b17e4251",
   "metadata": {},
   "outputs": [
    {
     "name": "stdout",
     "output_type": "stream",
     "text": [
      "5\n",
      "*\n",
      " **\n",
      "  ***\n",
      "**\n",
      " *\n"
     ]
    }
   ],
   "source": [
    "n = int(input())\n",
    "i=1\n",
    "star=1\n",
    "while i<=n//2+1:\n",
    "    j=0\n",
    "    while j<i-1 and i-1<=n//2:\n",
    "        print(' ',end='')\n",
    "        j=j+1\n",
    "    star = 1\n",
    "    while star<=i and i<=n//2+1:\n",
    "        print('*',end='')\n",
    "        star = star+1\n",
    "    print()\n",
    "    i=i+1\n",
    "k=1\n",
    "m = 0\n",
    "star = n//2\n",
    "space = n//2\n",
    "while k<=n//2:\n",
    "    space = n//2-space\n",
    "    while space>=1:\n",
    "        print(' ',end='')\n",
    "        space = space-1\n",
    "    while star>=1:\n",
    "        print('*',end='')\n",
    "        star = star-1\n",
    "    m=m+1\n",
    "    star=n//2-m\n",
    "    space=n//2-m\n",
    "    print()\n",
    "    k=k+1\n",
    "    "
   ]
  },
  {
   "cell_type": "code",
   "execution_count": 9,
   "id": "a3b0a302",
   "metadata": {},
   "outputs": [
    {
     "name": "stdout",
     "output_type": "stream",
     "text": [
      "7\n"
     ]
    }
   ],
   "source": [
    "n=int(input())\n",
    "i=1\n",
    "\n",
    "while i>=n//2+1:\n",
    "    j=i-1\n",
    "    while j>=1:\n",
    "        print(' ',end='')\n",
    "        j=j-1\n",
    "    k=i\n",
    "    while k>=1:\n",
    "        print('*',end='')\n",
    "        k=k-1\n",
    "    print()\n",
    "    i=i+1"
   ]
  },
  {
   "cell_type": "code",
   "execution_count": 1,
   "id": "80776f5e",
   "metadata": {},
   "outputs": [
    {
     "name": "stdout",
     "output_type": "stream",
     "text": [
      "7\n",
      "* \n",
      "  * * \n",
      "    * * * \n",
      "      * * * * \n",
      "    * * * \n",
      "  * * \n",
      "* \n"
     ]
    }
   ],
   "source": [
    "n=int(input())\n",
    "i=1\n",
    "\n",
    "while i<=n//2+1:\n",
    "    j=i-1\n",
    "    while j>=1:\n",
    "        print(' ',end=' ')\n",
    "        j=j-1\n",
    "    k=i\n",
    "    while k>=1:\n",
    "        print('*',end=' ')\n",
    "        k=k-1\n",
    "    print()\n",
    "    i=i+1\n",
    "m=1\n",
    "j=1\n",
    "k=0\n",
    "while m<=n//2:\n",
    "    space = n//2-j\n",
    "    while space>=1:\n",
    "        print(' ',end=' ')\n",
    "        space = space-1\n",
    "    j=j+1\n",
    "    star = n//2-k\n",
    "    while star>=1:\n",
    "        print('*',end=' ')\n",
    "        star = star-1\n",
    "    k=k+1\n",
    "    print()\n",
    "    m=m+1"
   ]
  },
  {
   "cell_type": "code",
   "execution_count": 2,
   "id": "a23083f4",
   "metadata": {},
   "outputs": [
    {
     "name": "stdout",
     "output_type": "stream",
     "text": [
      "7\n"
     ]
    }
   ],
   "source": []
  },
  {
   "cell_type": "code",
   "execution_count": null,
   "id": "e367d821",
   "metadata": {},
   "outputs": [],
   "source": []
  }
 ],
 "metadata": {
  "kernelspec": {
   "display_name": "Python 3 (ipykernel)",
   "language": "python",
   "name": "python3"
  },
  "language_info": {
   "codemirror_mode": {
    "name": "ipython",
    "version": 3
   },
   "file_extension": ".py",
   "mimetype": "text/x-python",
   "name": "python",
   "nbconvert_exporter": "python",
   "pygments_lexer": "ipython3",
   "version": "3.11.4"
  }
 },
 "nbformat": 4,
 "nbformat_minor": 5
}

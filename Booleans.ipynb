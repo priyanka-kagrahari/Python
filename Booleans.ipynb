{
 "cells": [
  {
   "cell_type": "code",
   "execution_count": 1,
   "id": "735586a3",
   "metadata": {},
   "outputs": [
    {
     "ename": "NameError",
     "evalue": "name 'Ninjas' is not defined",
     "output_type": "error",
     "traceback": [
      "\u001b[1;31m---------------------------------------------------------------------------\u001b[0m",
      "\u001b[1;31mNameError\u001b[0m                                 Traceback (most recent call last)",
      "Cell \u001b[1;32mIn[1], line 3\u001b[0m\n\u001b[0;32m      1\u001b[0m a \u001b[38;5;241m=\u001b[39m \u001b[38;5;28;01mTrue\u001b[39;00m\n\u001b[0;32m      2\u001b[0m b \u001b[38;5;241m=\u001b[39m \u001b[38;5;28;01mFalse\u001b[39;00m\n\u001b[1;32m----> 3\u001b[0m c \u001b[38;5;241m=\u001b[39m Ninjas\n\u001b[0;32m      4\u001b[0m c\n",
      "\u001b[1;31mNameError\u001b[0m: name 'Ninjas' is not defined"
     ]
    }
   ],
   "source": [
    "a = True\n",
    "b = False\n",
    "c = Ninjas\n",
    "c"
   ]
  },
  {
   "cell_type": "code",
   "execution_count": 2,
   "id": "fdcb2d8c",
   "metadata": {},
   "outputs": [
    {
     "data": {
      "text/plain": [
       "'Ninjas'"
      ]
     },
     "execution_count": 2,
     "metadata": {},
     "output_type": "execute_result"
    }
   ],
   "source": [
    "c = 'Ninjas'\n",
    "c"
   ]
  },
  {
   "cell_type": "code",
   "execution_count": 3,
   "id": "09f89a2f",
   "metadata": {},
   "outputs": [
    {
     "ename": "NameError",
     "evalue": "name 'true' is not defined",
     "output_type": "error",
     "traceback": [
      "\u001b[1;31m---------------------------------------------------------------------------\u001b[0m",
      "\u001b[1;31mNameError\u001b[0m                                 Traceback (most recent call last)",
      "Cell \u001b[1;32mIn[3], line 1\u001b[0m\n\u001b[1;32m----> 1\u001b[0m c \u001b[38;5;241m=\u001b[39m true\n",
      "\u001b[1;31mNameError\u001b[0m: name 'true' is not defined"
     ]
    }
   ],
   "source": [
    "c = true"
   ]
  },
  {
   "cell_type": "code",
   "execution_count": 4,
   "id": "ebb7ac5b",
   "metadata": {},
   "outputs": [
    {
     "data": {
      "text/plain": [
       "bool"
      ]
     },
     "execution_count": 4,
     "metadata": {},
     "output_type": "execute_result"
    }
   ],
   "source": [
    "c = True\n",
    "type(c)"
   ]
  },
  {
   "cell_type": "markdown",
   "id": "3ada9808",
   "metadata": {},
   "source": [
    "## Relational Operators"
   ]
  },
  {
   "cell_type": "code",
   "execution_count": 6,
   "id": "189f41de",
   "metadata": {},
   "outputs": [
    {
     "name": "stdout",
     "output_type": "stream",
     "text": [
      "False\n",
      "True\n",
      "False\n",
      "True\n",
      "False\n",
      "True\n"
     ]
    }
   ],
   "source": [
    "a = 10\n",
    "b = 20\n",
    "print(a > b)\n",
    "print(a < b)\n",
    "print(a >= b)\n",
    "print(a <= b)\n",
    "print(a == b)\n",
    "print(a != b)"
   ]
  },
  {
   "cell_type": "markdown",
   "id": "473f3d75",
   "metadata": {},
   "source": [
    "## Logical Operators"
   ]
  },
  {
   "cell_type": "code",
   "execution_count": 11,
   "id": "a880e9d9",
   "metadata": {},
   "outputs": [
    {
     "name": "stdout",
     "output_type": "stream",
     "text": [
      "False\n",
      "True\n",
      "True\n"
     ]
    }
   ],
   "source": [
    "c1 = a > 10\n",
    "c2 = b > 10\n",
    "r1 = c1 and c2\n",
    "r2 = c1 or c2\n",
    "r3 = not(c1)\n",
    "print(r1)\n",
    "print(r2)\n",
    "print(r3)"
   ]
  },
  {
   "cell_type": "markdown",
   "id": "361cd811",
   "metadata": {},
   "source": [
    "## IF ELSE"
   ]
  },
  {
   "cell_type": "code",
   "execution_count": 14,
   "id": "e0a5e247",
   "metadata": {},
   "outputs": [
    {
     "name": "stdout",
     "output_type": "stream",
     "text": [
      "I am inside if\n",
      "I am inside if2\n"
     ]
    }
   ],
   "source": [
    "a = True\n",
    "if a:\n",
    "    print('I am inside if')\n",
    "    print('I am inside if2')\n",
    "else:\n",
    "    print('I am in else')"
   ]
  },
  {
   "cell_type": "code",
   "execution_count": 16,
   "id": "852b2a3f",
   "metadata": {},
   "outputs": [
    {
     "name": "stdout",
     "output_type": "stream",
     "text": [
      "3\n",
      "n is odd\n"
     ]
    }
   ],
   "source": [
    "# check number to be odd or even\n",
    "n = int(input())\n",
    "r = n%2\n",
    "is_even = (r == 0)\n",
    "\n",
    "if is_even:\n",
    "    print('n is even')\n",
    "else:\n",
    "    print('n is odd')"
   ]
  },
  {
   "cell_type": "code",
   "execution_count": 17,
   "id": "ce9967f6",
   "metadata": {},
   "outputs": [
    {
     "name": "stdout",
     "output_type": "stream",
     "text": [
      "2\n",
      "n is even\n"
     ]
    }
   ],
   "source": [
    "# check number to be odd or even\n",
    "n = int(input())\n",
    "is_even = (n%2 == 0)\n",
    "\n",
    "if is_even:\n",
    "    print('n is even')\n",
    "else:\n",
    "    print('n is odd')"
   ]
  },
  {
   "cell_type": "code",
   "execution_count": 18,
   "id": "75bc9eb4",
   "metadata": {},
   "outputs": [
    {
     "name": "stdout",
     "output_type": "stream",
     "text": [
      "22\n",
      "n is even\n"
     ]
    }
   ],
   "source": [
    "# check number to be odd or even\n",
    "n = int(input())\n",
    "\n",
    "if n%2 == 0:\n",
    "    print('n is even')\n",
    "else:\n",
    "    print('n is odd')"
   ]
  },
  {
   "cell_type": "code",
   "execution_count": 19,
   "id": "90a0cc59",
   "metadata": {},
   "outputs": [
    {
     "name": "stdout",
     "output_type": "stream",
     "text": [
      "4\n",
      "n is even\n"
     ]
    }
   ],
   "source": [
    "# check number to be odd or even\n",
    "n = int(input())\n",
    "\n",
    "if n%2 == 0:\n",
    "    print('n is even')"
   ]
  },
  {
   "cell_type": "markdown",
   "id": "d1652917",
   "metadata": {},
   "source": [
    "## Using operator in If Else"
   ]
  },
  {
   "cell_type": "code",
   "execution_count": 21,
   "id": "ad238ec2",
   "metadata": {},
   "outputs": [
    {
     "name": "stdout",
     "output_type": "stream",
     "text": [
      "11\n",
      "20\n",
      "Both are > 10\n"
     ]
    }
   ],
   "source": [
    "a = int(input())\n",
    "b = int(input())\n",
    "\n",
    "c1 = a > 10\n",
    "c2 = b > 10\n",
    "\n",
    "r = c1 and c2\n",
    "\n",
    "if r:\n",
    "    print('Both are > 10')\n",
    "else:\n",
    "    print('No they are not')"
   ]
  },
  {
   "cell_type": "code",
   "execution_count": 22,
   "id": "8c0fa2ae",
   "metadata": {},
   "outputs": [
    {
     "name": "stdout",
     "output_type": "stream",
     "text": [
      "11\n",
      "20\n",
      "Both are > 10\n"
     ]
    }
   ],
   "source": [
    "a = int(input())\n",
    "b = int(input())\n",
    "\n",
    "if a > 10 and b>10:\n",
    "    print('Both are > 10')\n",
    "else:\n",
    "    print('No they are not')"
   ]
  },
  {
   "cell_type": "code",
   "execution_count": 1,
   "id": "a6c96be7",
   "metadata": {},
   "outputs": [
    {
     "name": "stdout",
     "output_type": "stream",
     "text": [
      "7\n",
      "it is 7\n"
     ]
    }
   ],
   "source": [
    "a = int(input())\n",
    "if a == 7:\n",
    "    print('it is 7')\n",
    "else:\n",
    "    print('No its not 7')"
   ]
  },
  {
   "cell_type": "code",
   "execution_count": 6,
   "id": "66a7476b",
   "metadata": {},
   "outputs": [
    {
     "name": "stdout",
     "output_type": "stream",
     "text": [
      "3\n",
      "2\n",
      "3\n",
      "3\n"
     ]
    }
   ],
   "source": [
    "first = int(input())\n",
    "sec = int(input())\n",
    "thrd = int(input())\n",
    "\n",
    "if first >= sec and first >= thrd:\n",
    "    print(first)\n",
    "elif sec >= first and sec >= thrd:\n",
    "        print(sec)\n",
    "else:\n",
    "    print(thrd)"
   ]
  },
  {
   "cell_type": "markdown",
   "id": "f405db71",
   "metadata": {},
   "source": [
    "## ELIF CONDITION"
   ]
  },
  {
   "cell_type": "code",
   "execution_count": 11,
   "id": "194d4ae0",
   "metadata": {},
   "outputs": [
    {
     "name": "stdout",
     "output_type": "stream",
     "text": [
      "2\n",
      "Yellow\n"
     ]
    }
   ],
   "source": [
    "n = int(input())\n",
    "\n",
    "if n>10:\n",
    "    print('Red')\n",
    "elif n >= 5:\n",
    "    print('Green')\n",
    "elif n > 0:\n",
    "    print('Yellow')"
   ]
  },
  {
   "cell_type": "markdown",
   "id": "75c6dea2",
   "metadata": {},
   "source": [
    "## Nested IF ELSE"
   ]
  },
  {
   "cell_type": "code",
   "execution_count": 13,
   "id": "5e42683e",
   "metadata": {},
   "outputs": [
    {
     "name": "stdout",
     "output_type": "stream",
     "text": [
      "0\n",
      "n is even\n",
      "n is zero\n"
     ]
    }
   ],
   "source": [
    "n = int(input())\n",
    "\n",
    "if n%2 == 0:\n",
    "    print('n is even')\n",
    "    if n == 0:\n",
    "        print('n is zero')\n",
    "else:\n",
    "    print('n is odd')"
   ]
  },
  {
   "cell_type": "code",
   "execution_count": 16,
   "id": "1f5a1185",
   "metadata": {},
   "outputs": [
    {
     "name": "stdout",
     "output_type": "stream",
     "text": [
      "3\n",
      "2\n",
      "3\n"
     ]
    }
   ],
   "source": [
    "n = int(input())\n",
    "m = int(input())\n",
    "\n",
    "if n%2 == 0:\n",
    "    if m%2 == 0:\n",
    "        print(1)\n",
    "    else:\n",
    "        print(2)\n",
    "else:\n",
    "    print(3)"
   ]
  },
  {
   "cell_type": "markdown",
   "id": "2b2af44c",
   "metadata": {},
   "source": [
    "## WHILE LOOP"
   ]
  },
  {
   "cell_type": "code",
   "execution_count": 18,
   "id": "12bdf8ca",
   "metadata": {},
   "outputs": [
    {
     "name": "stdout",
     "output_type": "stream",
     "text": [
      "5\n",
      "1\n",
      "1\n",
      "1\n",
      "1\n",
      "1\n"
     ]
    }
   ],
   "source": [
    "n = int(input())\n",
    "\n",
    "count = 1\n",
    "\n",
    "while count <= n:\n",
    "    print(1)\n",
    "    count = count+1"
   ]
  },
  {
   "cell_type": "code",
   "execution_count": 20,
   "id": "7a2be01d",
   "metadata": {},
   "outputs": [
    {
     "name": "stdout",
     "output_type": "stream",
     "text": [
      "10\n",
      "1\n",
      "2\n",
      "3\n",
      "4\n",
      "5\n",
      "6\n",
      "7\n",
      "8\n",
      "9\n",
      "10\n"
     ]
    }
   ],
   "source": [
    "# Print first n natural numbers\n",
    "n = int(input())\n",
    "count = 1\n",
    "\n",
    "while count <= n:\n",
    "    print(count)\n",
    "    count = count+1"
   ]
  },
  {
   "cell_type": "code",
   "execution_count": 30,
   "id": "1da40b29",
   "metadata": {},
   "outputs": [
    {
     "name": "stdout",
     "output_type": "stream",
     "text": [
      "12\n",
      "Not prime\n"
     ]
    }
   ],
   "source": [
    "## Check prime\n",
    "\n",
    "n = int(input())\n",
    "\n",
    "d = 2\n",
    "\n",
    "while d<n:\n",
    "    if n % d == 0:\n",
    "        print('Not prime')\n",
    "        break\n",
    "    d = d+1\n",
    "\n",
    "\n",
    "if d==n:\n",
    "    print('Prime number')"
   ]
  },
  {
   "cell_type": "code",
   "execution_count": 33,
   "id": "96cf126c",
   "metadata": {},
   "outputs": [
    {
     "name": "stdout",
     "output_type": "stream",
     "text": [
      "6\n",
      "Not Prime number\n"
     ]
    }
   ],
   "source": [
    "## Check prime\n",
    "\n",
    "n = int(input())\n",
    "\n",
    "d = 2\n",
    "flag = False\n",
    "while d<n:\n",
    "    if n % d == 0:\n",
    "        flag = True\n",
    "    d = d+1\n",
    "\n",
    "\n",
    "if flag:\n",
    "    print('Not Prime number')\n",
    "else:\n",
    "    print('Prime number')"
   ]
  },
  {
   "cell_type": "code",
   "execution_count": 42,
   "id": "801b3841",
   "metadata": {},
   "outputs": [
    {
     "name": "stdout",
     "output_type": "stream",
     "text": [
      "7\n",
      "2\n",
      "3\n",
      "5\n",
      "7\n"
     ]
    }
   ],
   "source": [
    "n = int(input())\n",
    "k = 2\n",
    "\n",
    "while k<=n:\n",
    "    d = 2\n",
    "    flag = True\n",
    "    while d<k:\n",
    "        if k % d == 0:\n",
    "            flag = False\n",
    "        d = d+1\n",
    "    \n",
    "    if flag:\n",
    "        print(k)\n",
    "    k = k+1\n",
    "\n"
   ]
  },
  {
   "cell_type": "code",
   "execution_count": 45,
   "id": "9c744c6d",
   "metadata": {},
   "outputs": [
    {
     "name": "stdout",
     "output_type": "stream",
     "text": [
      "10 12\n"
     ]
    }
   ],
   "source": [
    "a = 10\n",
    "b = 12\n",
    "\n",
    "print(a,b)"
   ]
  },
  {
   "cell_type": "code",
   "execution_count": 46,
   "id": "ededffac",
   "metadata": {},
   "outputs": [
    {
     "name": "stdout",
     "output_type": "stream",
     "text": [
      "1\n",
      "2\n",
      "3\n",
      "5\n",
      "2\n",
      "Invalid Operation\n",
      "6\n"
     ]
    }
   ],
   "source": [
    "inp = int(input())\n",
    "\n",
    "while inp != 6:\n",
    "    if inp == 1:\n",
    "        a = int(input())\n",
    "        b = int(input())\n",
    "        print(a+b)\n",
    "    if inp == 2:\n",
    "        print('Invalid Operation')\n",
    "    inp = int(input())"
   ]
  },
  {
   "cell_type": "code",
   "execution_count": 47,
   "id": "ef1dfd5f",
   "metadata": {},
   "outputs": [
    {
     "name": "stdout",
     "output_type": "stream",
     "text": [
      "3\n",
      "1\n",
      "2\n",
      "2\n",
      "6\n"
     ]
    }
   ],
   "source": [
    "inp = int(input())\n",
    "\n",
    "while inp != 6:\n",
    "    if inp == 1:\n",
    "        a = int(input())\n",
    "        b = int(input())\n",
    "        print(a + b)\n",
    "\n",
    "    if inp == 2:\n",
    "        a = int(input())\n",
    "        b = int(input())\n",
    "        print(a - b)\n",
    "\n",
    "    if inp == 3:\n",
    "        a = int(input())\n",
    "        b = int(input())\n",
    "        print(a * b)\n",
    "\n",
    "    if inp == 4:\n",
    "        a = int(input())\n",
    "        b = int(input())\n",
    "        print(a % b)\n",
    "        \n",
    "    if inp == 5:\n",
    "        a = int(input())\n",
    "        b = int(input())\n",
    "        print(a // b)\n",
    "        \n",
    "    if inp == 7:\n",
    "        print(\"Invalid Operation\")\n",
    "        \n",
    "    inp = int(input())"
   ]
  },
  {
   "cell_type": "code",
   "execution_count": 11,
   "id": "88e6c303",
   "metadata": {},
   "outputs": [
    {
     "name": "stdout",
     "output_type": "stream",
     "text": [
      "12\n",
      "1\n",
      "21\n"
     ]
    }
   ],
   "source": [
    "n = int(input())\n",
    "\n",
    "res = 0\n",
    "\n",
    "res = n%10\n",
    "n = n//10\n",
    "print(n)\n",
    "res = (res *10) + n%10\n",
    "\n",
    "print(res)"
   ]
  },
  {
   "cell_type": "code",
   "execution_count": 20,
   "id": "1ba3b84b",
   "metadata": {},
   "outputs": [
    {
     "name": "stdout",
     "output_type": "stream",
     "text": [
      "1234\n",
      "4321\n"
     ]
    }
   ],
   "source": [
    "#Reverse of a number\n",
    "\n",
    "n = int(input())\n",
    "\n",
    "res = 0\n",
    "res = (n%10)\n",
    "n = n//10\n",
    "\n",
    "while n>0:\n",
    "    res = (res * 10) + (n%10)\n",
    "    n = n//10\n",
    "\n",
    "print(res)"
   ]
  },
  {
   "cell_type": "code",
   "execution_count": 30,
   "id": "9109a0b6",
   "metadata": {},
   "outputs": [
    {
     "name": "stdout",
     "output_type": "stream",
     "text": [
      "234\n",
      "6   3\n"
     ]
    }
   ],
   "source": [
    "# sum of odd and even digits\n",
    "inp = int(input())\n",
    "\n",
    "even = 0\n",
    "odd = 0\n",
    "\n",
    "while inp > 0:\n",
    "    if (inp % 10) % 2 == 0:\n",
    "        even = even + (inp % 10)\n",
    "    else:\n",
    "        odd = odd + (inp % 10)\n",
    "    inp = inp // 10\n",
    "\n",
    "print(even,\" \",odd)"
   ]
  },
  {
   "cell_type": "code",
   "execution_count": null,
   "id": "bab36c1b",
   "metadata": {},
   "outputs": [],
   "source": []
  }
 ],
 "metadata": {
  "kernelspec": {
   "display_name": "Python 3 (ipykernel)",
   "language": "python",
   "name": "python3"
  },
  "language_info": {
   "codemirror_mode": {
    "name": "ipython",
    "version": 3
   },
   "file_extension": ".py",
   "mimetype": "text/x-python",
   "name": "python",
   "nbconvert_exporter": "python",
   "pygments_lexer": "ipython3",
   "version": "3.11.4"
  }
 },
 "nbformat": 4,
 "nbformat_minor": 5
}

{
 "cells": [
  {
   "cell_type": "code",
   "execution_count": null,
   "id": "887aa4cd",
   "metadata": {},
   "outputs": [],
   "source": [
    "# Below pattern needs to be printed\n",
    "\n",
    "****\n",
    "****\n",
    "****\n",
    "****\n",
    "\n",
    "# In order to solve pattern problem, there are 3 questions we need to answer\n",
    "\n",
    "# 1. How many rows to be printed\n",
    "# 2. How many columns for each rows to be printed.\n",
    "# 3. What needs to be printed.\n",
    "\n",
    "#Lets solve the above pattern by following the above strategy."
   ]
  },
  {
   "cell_type": "code",
   "execution_count": 6,
   "id": "46ae835f",
   "metadata": {},
   "outputs": [
    {
     "name": "stdout",
     "output_type": "stream",
     "text": [
      "3\n",
      "***\n",
      "***\n",
      "***\n"
     ]
    }
   ],
   "source": [
    "n = int(input())\n",
    "i = 1\n",
    "\n",
    "while i<=n:\n",
    "    j = 1\n",
    "    while j<=n:\n",
    "        print('*',end='')\n",
    "        j = j+1\n",
    "    print()\n",
    "    i = i+1"
   ]
  },
  {
   "cell_type": "code",
   "execution_count": 7,
   "id": "caf7acd6",
   "metadata": {},
   "outputs": [
    {
     "name": "stdout",
     "output_type": "stream",
     "text": [
      "3\n",
      "333\n",
      "333\n",
      "333\n"
     ]
    }
   ],
   "source": [
    "inp = int(input())\n",
    "i = 1\n",
    "\n",
    "while i<=inp:\n",
    "    j = 1\n",
    "    while j<=inp:\n",
    "        print(inp,end='')\n",
    "        j = j+1\n",
    "    print()\n",
    "    i = i+1"
   ]
  },
  {
   "cell_type": "code",
   "execution_count": 8,
   "id": "9497fc02",
   "metadata": {},
   "outputs": [
    {
     "name": "stdout",
     "output_type": "stream",
     "text": [
      "4\n",
      "1111\n",
      "2222\n",
      "3333\n",
      "4444\n"
     ]
    }
   ],
   "source": [
    "# Square Patterns - equal no. of rows and cols\n",
    "\n",
    "n = int(input())\n",
    "i = 1\n",
    "\n",
    "while i <=n:\n",
    "    j = 1\n",
    "    while j <=n:\n",
    "        print(i,end='')\n",
    "        j = j + 1\n",
    "    print()\n",
    "    i = i + 1"
   ]
  },
  {
   "cell_type": "code",
   "execution_count": 9,
   "id": "87e23624",
   "metadata": {},
   "outputs": [
    {
     "name": "stdout",
     "output_type": "stream",
     "text": [
      "4\n",
      "1234\n",
      "1234\n",
      "1234\n",
      "1234\n"
     ]
    }
   ],
   "source": [
    "n = int(input())\n",
    "i = 1\n",
    "\n",
    "while i <=n:\n",
    "    j = 1\n",
    "    while j <=n:\n",
    "        print(j,end='')\n",
    "        j = j+1\n",
    "    print()\n",
    "    i = i+1"
   ]
  },
  {
   "cell_type": "code",
   "execution_count": 10,
   "id": "d614c0a9",
   "metadata": {},
   "outputs": [
    {
     "name": "stdout",
     "output_type": "stream",
     "text": [
      "4\n",
      "4321\n",
      "4321\n",
      "4321\n",
      "4321\n"
     ]
    }
   ],
   "source": [
    "n = int(input())\n",
    "i = 1\n",
    "\n",
    "while i<=n:\n",
    "    j=n\n",
    "    while j>0:\n",
    "        print(j,end='')\n",
    "        j = j-1\n",
    "    print()\n",
    "    i = i+1"
   ]
  },
  {
   "cell_type": "code",
   "execution_count": null,
   "id": "41406763",
   "metadata": {},
   "outputs": [],
   "source": [
    "# Triangular Patterns\n",
    "\n",
    "#1. how many rows\n",
    "#2. how many cols\n",
    "#3. What to print\n",
    "\n",
    "1\n",
    "12\n",
    "123\n",
    "1234\n"
   ]
  },
  {
   "cell_type": "code",
   "execution_count": 11,
   "id": "dee833e5",
   "metadata": {},
   "outputs": [
    {
     "name": "stdout",
     "output_type": "stream",
     "text": [
      "4\n",
      "1\n",
      "12\n",
      "123\n",
      "1234\n"
     ]
    }
   ],
   "source": [
    "n = int(input())\n",
    "i = 1\n",
    "\n",
    "while i<=n:\n",
    "    j = 1\n",
    "    while j<=i:\n",
    "        print(j,end='')\n",
    "        j = j+1\n",
    "    print()\n",
    "    i = i+1"
   ]
  },
  {
   "cell_type": "code",
   "execution_count": 14,
   "id": "f2b4a7ad",
   "metadata": {},
   "outputs": [
    {
     "name": "stdout",
     "output_type": "stream",
     "text": [
      "4\n",
      "1\n",
      "23\n",
      "345\n",
      "4567\n"
     ]
    }
   ],
   "source": [
    "n = int(input())\n",
    "i = 1\n",
    "\n",
    "while i<=n:\n",
    "    j = 1\n",
    "    temp = i\n",
    "    while j<=i:\n",
    "        print(temp,end='')\n",
    "        temp = temp +1\n",
    "        j = j+1\n",
    "    print()\n",
    "    i = i+1"
   ]
  },
  {
   "cell_type": "code",
   "execution_count": 15,
   "id": "0e366fa7",
   "metadata": {},
   "outputs": [
    {
     "name": "stdout",
     "output_type": "stream",
     "text": [
      "3\n",
      "1\n",
      "23\n",
      "456\n"
     ]
    }
   ],
   "source": [
    "n = int(input())\n",
    "i = 1\n",
    "res = i\n",
    "while i<=n:\n",
    "    j = 1\n",
    "    while j<=i:\n",
    "        print(res,end='')\n",
    "        j = j+1\n",
    "        res = res + 1\n",
    "    print()\n",
    "    i = i+1"
   ]
  },
  {
   "cell_type": "code",
   "execution_count": null,
   "id": "46ac168e",
   "metadata": {},
   "outputs": [],
   "source": [
    "#Problem statement\n",
    "#Print the following pattern for the given N number of rows.\n",
    "\n",
    "#Pattern for N = 4\n",
    "*\n",
    "**\n",
    "***\n",
    "****"
   ]
  },
  {
   "cell_type": "code",
   "execution_count": 1,
   "id": "ba8b9a47",
   "metadata": {},
   "outputs": [
    {
     "name": "stdout",
     "output_type": "stream",
     "text": [
      "3\n",
      "*\n",
      "**\n",
      "***\n"
     ]
    }
   ],
   "source": [
    "n = int(input())\n",
    "i = 1\n",
    "\n",
    "while i<=n:\n",
    "    j = 1\n",
    "    while j<=i:\n",
    "        print('*',end='')\n",
    "        j = j+1\n",
    "    print()\n",
    "    i = i +1"
   ]
  },
  {
   "cell_type": "code",
   "execution_count": null,
   "id": "efa1b8c3",
   "metadata": {},
   "outputs": [],
   "source": [
    "#Print the following pattern for the given N number of rows.\n",
    "\n",
    "#Pattern for N = 4\n",
    "1\n",
    "22\n",
    "333\n",
    "4444"
   ]
  },
  {
   "cell_type": "code",
   "execution_count": 2,
   "id": "291ed344",
   "metadata": {},
   "outputs": [
    {
     "name": "stdout",
     "output_type": "stream",
     "text": [
      "4\n",
      "1\n",
      "22\n",
      "333\n",
      "4444\n"
     ]
    }
   ],
   "source": [
    "n = int(input())\n",
    "i = 1\n",
    "\n",
    "while i<=n:\n",
    "    j = 1\n",
    "    while j<=i:\n",
    "        print(i,end='')\n",
    "        j = j+1\n",
    "    print()\n",
    "    i = i+1"
   ]
  },
  {
   "cell_type": "code",
   "execution_count": null,
   "id": "8533d6bf",
   "metadata": {},
   "outputs": [],
   "source": [
    "#Print the following pattern for the given N number of rows.\n",
    "\n",
    "#Pattern for N = 4\n",
    "1\n",
    "21\n",
    "321\n",
    "4321"
   ]
  },
  {
   "cell_type": "code",
   "execution_count": 3,
   "id": "0bc2b79a",
   "metadata": {},
   "outputs": [
    {
     "name": "stdout",
     "output_type": "stream",
     "text": [
      "5\n",
      "1\n",
      "21\n",
      "321\n",
      "4321\n",
      "54321\n"
     ]
    }
   ],
   "source": [
    "n = int(input())\n",
    "i = 1\n",
    "\n",
    "while i<=n:\n",
    "    j = 1\n",
    "    p = i\n",
    "    while j<=i:\n",
    "        print(p,end='')\n",
    "        j = j+1\n",
    "        p = p-1\n",
    "    print()\n",
    "    i = i+1"
   ]
  },
  {
   "cell_type": "code",
   "execution_count": 5,
   "id": "ced6a01d",
   "metadata": {},
   "outputs": [
    {
     "data": {
      "text/plain": [
       "65"
      ]
     },
     "execution_count": 5,
     "metadata": {},
     "output_type": "execute_result"
    }
   ],
   "source": [
    "# Character Patterns\n",
    "\n",
    "# in order to print characters in pattern, we need to know how to get the ASCII\n",
    "# of characters so that we can use for printing\n",
    "\n",
    "x = ord('A')\n",
    "x"
   ]
  },
  {
   "cell_type": "code",
   "execution_count": 7,
   "id": "14747779",
   "metadata": {},
   "outputs": [
    {
     "data": {
      "text/plain": [
       "'A'"
      ]
     },
     "execution_count": 7,
     "metadata": {},
     "output_type": "execute_result"
    }
   ],
   "source": [
    "chr(x)"
   ]
  },
  {
   "cell_type": "code",
   "execution_count": null,
   "id": "74572b39",
   "metadata": {},
   "outputs": [],
   "source": [
    "# We can use ord and chr methods to get the ascii values of characters and \n",
    "# alphabets which can be printed \n",
    "\n",
    "# Let's see how we can print below pattern\n",
    "\n",
    "ABCD\n",
    "ABCD\n",
    "ABCD\n",
    "ABCD"
   ]
  },
  {
   "cell_type": "code",
   "execution_count": 12,
   "id": "dfe99cf1",
   "metadata": {},
   "outputs": [
    {
     "name": "stdout",
     "output_type": "stream",
     "text": [
      "5\n",
      "ABCDE\n",
      "ABCDE\n",
      "ABCDE\n",
      "ABCDE\n",
      "ABCDE\n"
     ]
    }
   ],
   "source": [
    "n = int(input())\n",
    "i = 1\n",
    "\n",
    "while i<=n:\n",
    "    j=1\n",
    "    ch = ord('A')\n",
    "    p = ch\n",
    "    while j<=n:\n",
    "        print(chr(p),end='')\n",
    "        p = p+1\n",
    "        j = j+1\n",
    "    print()\n",
    "    i = i+1"
   ]
  },
  {
   "cell_type": "code",
   "execution_count": null,
   "id": "f40b23c9",
   "metadata": {},
   "outputs": [],
   "source": [
    "# Let's see how we can print below pattern\n",
    "\n",
    "ABCD\n",
    "BCDE\n",
    "CDEF\n",
    "DEFG"
   ]
  },
  {
   "cell_type": "code",
   "execution_count": 15,
   "id": "2a215693",
   "metadata": {},
   "outputs": [
    {
     "name": "stdout",
     "output_type": "stream",
     "text": [
      "3\n",
      "ABC\n",
      "BCD\n",
      "CDE\n"
     ]
    }
   ],
   "source": [
    "n = int(input())\n",
    "i = 1\n",
    "\n",
    "while i<=n:\n",
    "    j=1\n",
    "    ch = ord('A')+i-1\n",
    "    while j<=n:\n",
    "        print(chr(ch),end='')\n",
    "        ch = ch+1\n",
    "        j = j+1\n",
    "    print()\n",
    "    i=i+1\n",
    "    "
   ]
  },
  {
   "cell_type": "code",
   "execution_count": null,
   "id": "58b59e30",
   "metadata": {},
   "outputs": [],
   "source": [
    "#Problem statement\n",
    "#Print the following pattern for the given N number of rows.\n",
    "\n",
    "#Pattern for N = 4\n",
    "A\n",
    "BC\n",
    "CDE\n",
    "DEFG"
   ]
  },
  {
   "cell_type": "code",
   "execution_count": 16,
   "id": "1fc4e5d2",
   "metadata": {},
   "outputs": [
    {
     "name": "stdout",
     "output_type": "stream",
     "text": [
      "5\n",
      "A\n",
      "BC\n",
      "CDE\n",
      "DEFG\n",
      "EFGHI\n"
     ]
    }
   ],
   "source": [
    "n = int(input())\n",
    "i = 1\n",
    "\n",
    "while i<=n:\n",
    "    j=1\n",
    "    ch = ord('A')+i-1\n",
    "    while j<=i:\n",
    "        print(chr(ch),end='')\n",
    "        ch = ch+1\n",
    "        j=j+1\n",
    "    print()\n",
    "    i = i+1"
   ]
  },
  {
   "cell_type": "code",
   "execution_count": null,
   "id": "cfa2ac4d",
   "metadata": {},
   "outputs": [],
   "source": [
    "# Print the following pattern for the given number of rows.\n",
    "\n",
    "# Pattern for N = 5\n",
    "E\n",
    "DE\n",
    "CDE\n",
    "BCDE\n",
    "ABCDE"
   ]
  },
  {
   "cell_type": "code",
   "execution_count": 17,
   "id": "9533b132",
   "metadata": {},
   "outputs": [
    {
     "name": "stdout",
     "output_type": "stream",
     "text": [
      "5\n",
      "E\n",
      "DE\n",
      "CDE\n",
      "BCDE\n",
      "ABCDE\n"
     ]
    }
   ],
   "source": [
    "n = int(input())\n",
    "i = 1\n",
    "\n",
    "while i<=n:\n",
    "    j=1\n",
    "    ch = ord('A')+n-i\n",
    "    while j<=i:\n",
    "        print(chr(ch),end='')\n",
    "        ch = ch+1\n",
    "        j = j+1\n",
    "    print()\n",
    "    i = i+1"
   ]
  },
  {
   "cell_type": "code",
   "execution_count": null,
   "id": "5a3db3ef",
   "metadata": {},
   "outputs": [],
   "source": [
    "# Problem statement\n",
    "# Print the following pattern for the given N number of rows.\n",
    "\n",
    "# Pattern for N = 4\n",
    "1\n",
    "11\n",
    "111\n",
    "1111"
   ]
  },
  {
   "cell_type": "code",
   "execution_count": 18,
   "id": "facf7816",
   "metadata": {},
   "outputs": [
    {
     "name": "stdout",
     "output_type": "stream",
     "text": [
      "4\n",
      "1\n",
      "11\n",
      "111\n",
      "1111\n"
     ]
    }
   ],
   "source": [
    "n = int(input())\n",
    "i=1\n",
    "\n",
    "while i<=n:\n",
    "    j = 1\n",
    "    while j<=i:\n",
    "        print(1,end='')\n",
    "        j = j+1\n",
    "    print()\n",
    "    i = i+1"
   ]
  },
  {
   "cell_type": "code",
   "execution_count": null,
   "id": "df61ab8f",
   "metadata": {},
   "outputs": [],
   "source": [
    "# Problem statement\n",
    "# Print the following pattern for the given N number of rows.\n",
    "\n",
    "# Pattern for N = 4\n",
    "1\n",
    "11\n",
    "202\n",
    "3003"
   ]
  },
  {
   "cell_type": "code",
   "execution_count": 19,
   "id": "0b9169ac",
   "metadata": {},
   "outputs": [
    {
     "name": "stdout",
     "output_type": "stream",
     "text": [
      "4\n",
      "1\n",
      "11\n",
      "202\n",
      "3003\n"
     ]
    }
   ],
   "source": [
    "n = int(input())\n",
    "i = 1\n",
    "\n",
    "while i<=n:\n",
    "    j=1\n",
    "    while j<=i:\n",
    "        if j==1 and i==1:\n",
    "            print(1,end='')\n",
    "        elif j==1 or j==i:\n",
    "            print(i-1,end='')\n",
    "        else:\n",
    "            print(0,end='')\n",
    "        j = j+1\n",
    "    print()\n",
    "    i=i+1\n"
   ]
  },
  {
   "cell_type": "code",
   "execution_count": null,
   "id": "172e2c95",
   "metadata": {},
   "outputs": [],
   "source": [
    "# Print the following pattern for the given N number of rows.\n",
    "\n",
    "# Pattern for N = 4\n",
    "1\n",
    "11\n",
    "121\n",
    "1221"
   ]
  },
  {
   "cell_type": "code",
   "execution_count": 20,
   "id": "751757b0",
   "metadata": {},
   "outputs": [
    {
     "name": "stdout",
     "output_type": "stream",
     "text": [
      "5\n",
      "1\n",
      "11\n",
      "121\n",
      "1221\n",
      "12221\n"
     ]
    }
   ],
   "source": [
    "n = int(input())\n",
    "i = 1\n",
    "\n",
    "while i<=n:\n",
    "    j = 1\n",
    "    while j<=i:\n",
    "        if i==1 and j==1:\n",
    "            print(i,end='')\n",
    "        elif j==1 or j==i:\n",
    "            print(1,end='')\n",
    "        else:\n",
    "            print(2,end='')\n",
    "        j = j+1\n",
    "    print()\n",
    "    i=i+1"
   ]
  },
  {
   "cell_type": "code",
   "execution_count": null,
   "id": "8eee132e",
   "metadata": {},
   "outputs": [],
   "source": [
    "# Print the following pattern for the given N number of rows.\n",
    "\n",
    "# Pattern for N = 4\n",
    "1234\n",
    "123\n",
    "12\n",
    "1"
   ]
  },
  {
   "cell_type": "code",
   "execution_count": 22,
   "id": "045c5a0f",
   "metadata": {},
   "outputs": [
    {
     "name": "stdout",
     "output_type": "stream",
     "text": [
      "5\n",
      "12345\n",
      "1234\n",
      "123\n",
      "12\n",
      "1\n"
     ]
    }
   ],
   "source": [
    "n = int(input())\n",
    "i = 1\n",
    "\n",
    "while i<=n:\n",
    "    j=1\n",
    "    end = n-i+1\n",
    "    while j<=end:\n",
    "        print(j,end='')\n",
    "        j = j+1\n",
    "    print()\n",
    "    i=i+1"
   ]
  },
  {
   "cell_type": "code",
   "execution_count": null,
   "id": "e5509c4f",
   "metadata": {},
   "outputs": [],
   "source": [
    "# Problem statement\n",
    "# Print the following pattern for the given N number of rows.\n",
    "\n",
    "# Pattern for N = 3\n",
    " A\n",
    " BB\n",
    " CCC"
   ]
  },
  {
   "cell_type": "code",
   "execution_count": 23,
   "id": "4a795409",
   "metadata": {},
   "outputs": [
    {
     "name": "stdout",
     "output_type": "stream",
     "text": [
      "7\n",
      "A\n",
      "BB\n",
      "CCC\n",
      "DDDD\n",
      "EEEEE\n",
      "FFFFFF\n",
      "GGGGGGG\n"
     ]
    }
   ],
   "source": [
    "n = int(input())\n",
    "i = 1\n",
    "\n",
    "while i<=n:\n",
    "    j=1\n",
    "    ch = ord('A')+i-1\n",
    "    while j<=i:\n",
    "        print(chr(ch),end='')\n",
    "        j = j+1\n",
    "    print()\n",
    "    i=i+1"
   ]
  },
  {
   "cell_type": "code",
   "execution_count": null,
   "id": "b2fdbfc9",
   "metadata": {},
   "outputs": [],
   "source": []
  }
 ],
 "metadata": {
  "kernelspec": {
   "display_name": "Python 3 (ipykernel)",
   "language": "python",
   "name": "python3"
  },
  "language_info": {
   "codemirror_mode": {
    "name": "ipython",
    "version": 3
   },
   "file_extension": ".py",
   "mimetype": "text/x-python",
   "name": "python",
   "nbconvert_exporter": "python",
   "pygments_lexer": "ipython3",
   "version": "3.11.4"
  }
 },
 "nbformat": 4,
 "nbformat_minor": 5
}
